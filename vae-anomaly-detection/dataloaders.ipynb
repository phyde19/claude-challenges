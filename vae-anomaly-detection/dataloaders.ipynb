{
 "cells": [
  {
   "cell_type": "markdown",
   "id": "54290daa-8b1b-4adb-a950-370d70682fb3",
   "metadata": {},
   "source": [
    "I'm tempted to prompt for the dataloader code\n",
    "\n",
    "I'll likely be using PyTorch alot though so manually getting aquainted with the pytorch interfaces is a better approach\n",
    "\n",
    "## Goals\n",
    "1. Understand datasets and dataloaders\n",
    "2. I think mnist is available through pytorch (other examples?) -> YES. https://pytorch.org/vision/stable/datasets.html\n",
    "3. torchvision for images. Aren't images just tensors/matrices?\n",
    "4. Data Preparation -> data splitting, train/val/test, batching\n",
    "5. Normalization / standardization <- Maybe defer this till later\n",
    "\n",
    "# Datasets\n",
    "A Dataset in PyTorch represents your data.\n",
    "It's an abstract class that you can subclass to create custom datasets.\n",
    "Each Dataset must implement len (returns the size of the dataset) and getitem (returns a sample from the dataset).\n",
    "Datasets handle how individual data points are accessed and preprocessed.\n",
    "\n",
    "# Dataloaders\n",
    "DataLoaders wrap an iterable around the Dataset to enable easy access to samples.\n",
    "They handle batching, shuffling, multiprocessing for loading data, and other important features.\n",
    "DataLoaders are particularly useful for:\n",
    "Batching data\n",
    "Shuffling data\n",
    "Loading data in parallel using multiprocessing workers\n",
    "Automatically sending data to the correct device (CPU/GPU)"
   ]
  },
  {
   "cell_type": "code",
   "execution_count": 4,
   "id": "5adfc86a",
   "metadata": {},
   "outputs": [
    {
     "name": "stdout",
     "output_type": "stream",
     "text": [
      "The autoreload extension is already loaded. To reload it, use:\n",
      "  %reload_ext autoreload\n"
     ]
    },
    {
     "name": "stdout",
     "output_type": "stream",
     "text": [
      "Collecting matplotlib (from -r ../requirements.txt (line 1))\n",
      "  Downloading matplotlib-3.9.2-cp310-cp310-manylinux_2_17_x86_64.manylinux2014_x86_64.whl.metadata (11 kB)\n",
      "Collecting contourpy>=1.0.1 (from matplotlib->-r ../requirements.txt (line 1))\n",
      "  Downloading contourpy-1.2.1-cp310-cp310-manylinux_2_17_x86_64.manylinux2014_x86_64.whl.metadata (5.8 kB)\n",
      "Collecting cycler>=0.10 (from matplotlib->-r ../requirements.txt (line 1))\n",
      "  Downloading cycler-0.12.1-py3-none-any.whl.metadata (3.8 kB)\n",
      "Collecting fonttools>=4.22.0 (from matplotlib->-r ../requirements.txt (line 1))\n",
      "  Downloading fonttools-4.53.1-cp310-cp310-manylinux_2_17_x86_64.manylinux2014_x86_64.whl.metadata (162 kB)\n",
      "\u001b[2K     \u001b[90m━━━━━━━━━━━━━━━━━━━━━━━━━━━━━━━━━━━━━━━\u001b[0m \u001b[32m162.6/162.6 kB\u001b[0m \u001b[31m3.4 MB/s\u001b[0m eta \u001b[36m0:00:00\u001b[0ma \u001b[36m0:00:01\u001b[0m\n",
      "\u001b[?25hCollecting kiwisolver>=1.3.1 (from matplotlib->-r ../requirements.txt (line 1))\n",
      "  Downloading kiwisolver-1.4.5-cp310-cp310-manylinux_2_12_x86_64.manylinux2010_x86_64.whl.metadata (6.4 kB)\n",
      "Requirement already satisfied: numpy>=1.23 in /usr/local/lib/python3.10/dist-packages (from matplotlib->-r ../requirements.txt (line 1)) (1.24.1)\n",
      "Requirement already satisfied: packaging>=20.0 in /usr/local/lib/python3.10/dist-packages (from matplotlib->-r ../requirements.txt (line 1)) (23.2)\n",
      "Requirement already satisfied: pillow>=8 in /usr/local/lib/python3.10/dist-packages (from matplotlib->-r ../requirements.txt (line 1)) (9.3.0)\n",
      "Requirement already satisfied: pyparsing>=2.3.1 in /usr/lib/python3/dist-packages (from matplotlib->-r ../requirements.txt (line 1)) (2.4.7)\n",
      "Requirement already satisfied: python-dateutil>=2.7 in /usr/local/lib/python3.10/dist-packages (from matplotlib->-r ../requirements.txt (line 1)) (2.8.2)\n",
      "Requirement already satisfied: six>=1.5 in /usr/lib/python3/dist-packages (from python-dateutil>=2.7->matplotlib->-r ../requirements.txt (line 1)) (1.16.0)\n",
      "Downloading matplotlib-3.9.2-cp310-cp310-manylinux_2_17_x86_64.manylinux2014_x86_64.whl (8.3 MB)\n",
      "\u001b[2K   \u001b[90m━━━━━━━━━━━━━━━━━━━━━━━━━━━━━━━━━━━━━━━━\u001b[0m \u001b[32m8.3/8.3 MB\u001b[0m \u001b[31m12.6 MB/s\u001b[0m eta \u001b[36m0:00:00\u001b[0m00:01\u001b[0m00:01\u001b[0m\n",
      "\u001b[?25hDownloading contourpy-1.2.1-cp310-cp310-manylinux_2_17_x86_64.manylinux2014_x86_64.whl (305 kB)\n",
      "\u001b[2K   \u001b[90m━━━━━━━━━━━━━━━━━━━━━━━━━━━━━━━━━━━━━━━━\u001b[0m \u001b[32m305.2/305.2 kB\u001b[0m \u001b[31m39.5 MB/s\u001b[0m eta \u001b[36m0:00:00\u001b[0m\n",
      "\u001b[?25hDownloading cycler-0.12.1-py3-none-any.whl (8.3 kB)\n",
      "Downloading fonttools-4.53.1-cp310-cp310-manylinux_2_17_x86_64.manylinux2014_x86_64.whl (4.6 MB)\n",
      "\u001b[2K   \u001b[90m━━━━━━━━━━━━━━━━━━━━━━━━━━━━━━━━━━━━━━━━\u001b[0m \u001b[32m4.6/4.6 MB\u001b[0m \u001b[31m29.5 MB/s\u001b[0m eta \u001b[36m0:00:00\u001b[0m00:01\u001b[0m00:01\u001b[0m\n",
      "\u001b[?25hDownloading kiwisolver-1.4.5-cp310-cp310-manylinux_2_12_x86_64.manylinux2010_x86_64.whl (1.6 MB)\n",
      "\u001b[2K   \u001b[90m━━━━━━━━━━━━━━━━━━━━━━━━━━━━━━━━━━━━━━━━\u001b[0m \u001b[32m1.6/1.6 MB\u001b[0m \u001b[31m36.4 MB/s\u001b[0m eta \u001b[36m0:00:00\u001b[0ma \u001b[36m0:00:01\u001b[0m\n",
      "\u001b[?25hInstalling collected packages: kiwisolver, fonttools, cycler, contourpy, matplotlib\n",
      "Successfully installed contourpy-1.2.1 cycler-0.12.1 fonttools-4.53.1 kiwisolver-1.4.5 matplotlib-3.9.2\n",
      "\u001b[33mWARNING: Running pip as the 'root' user can result in broken permissions and conflicting behaviour with the system package manager. It is recommended to use a virtual environment instead: https://pip.pypa.io/warnings/venv\u001b[0m\u001b[33m\n",
      "\u001b[0m\n",
      "\u001b[1m[\u001b[0m\u001b[34;49mnotice\u001b[0m\u001b[1;39;49m]\u001b[0m\u001b[39;49m A new release of pip is available: \u001b[0m\u001b[31;49m23.3.1\u001b[0m\u001b[39;49m -> \u001b[0m\u001b[32;49m24.2\u001b[0m\n",
      "\u001b[1m[\u001b[0m\u001b[34;49mnotice\u001b[0m\u001b[1;39;49m]\u001b[0m\u001b[39;49m To update, run: \u001b[0m\u001b[32;49mpython -m pip install --upgrade pip\u001b[0m\n",
      "Note: you may need to restart the kernel to use updated packages.\n"
     ]
    }
   ],
   "source": [
    "%load_ext autoreload\n",
    "%autoreload 2\n",
    "\n",
    "%pip install -r ../requirements.txt"
   ]
  },
  {
   "cell_type": "code",
   "execution_count": 44,
   "id": "d1d5d94d-6075-46b7-8f36-d26042a8c604",
   "metadata": {},
   "outputs": [],
   "source": [
    "from torch.utils.data import (\n",
    "    Dataset, \n",
    "    ConcatDataset, \n",
    "    DataLoader, \n",
    "    Subset,\n",
    "    random_split\n",
    ")\n",
    "from torchvision import datasets, transforms \n",
    "\n",
    "import numpy as np\n",
    "import matplotlib.pyplot as plt"
   ]
  },
  {
   "cell_type": "code",
   "execution_count": 22,
   "id": "ffe10e67",
   "metadata": {},
   "outputs": [],
   "source": [
    "from lib.plot import plot_mnist_sample"
   ]
  },
  {
   "cell_type": "code",
   "execution_count": 23,
   "id": "1f8f85ec-7176-4159-a12e-3fe435282b36",
   "metadata": {},
   "outputs": [],
   "source": [
    "train_mnist = datasets.MNIST('./data', train=True, download=True)\n",
    "test_mnist = datasets.MNIST('./data', train=False, download=True)"
   ]
  },
  {
   "cell_type": "code",
   "execution_count": 24,
   "id": "05a67f85-a9f9-452b-8464-c9bfbd4d38ec",
   "metadata": {},
   "outputs": [
    {
     "name": "stdout",
     "output_type": "stream",
     "text": [
      "True\n"
     ]
    }
   ],
   "source": [
    "print(isinstance(train_mnist, Dataset))"
   ]
  },
  {
   "cell_type": "code",
   "execution_count": 25,
   "id": "6ba12fc7",
   "metadata": {},
   "outputs": [
    {
     "data": {
      "text/plain": [
       "Dataset MNIST\n",
       "    Number of datapoints: 60000\n",
       "    Root location: ./data\n",
       "    Split: Train"
      ]
     },
     "execution_count": 25,
     "metadata": {},
     "output_type": "execute_result"
    }
   ],
   "source": [
    "train_mnist"
   ]
  },
  {
   "cell_type": "code",
   "execution_count": 26,
   "id": "c8b5954e-076b-48a6-821a-c988d6f7931b",
   "metadata": {},
   "outputs": [
    {
     "data": {
      "text/plain": [
       "Dataset MNIST\n",
       "    Number of datapoints: 10000\n",
       "    Root location: ./data\n",
       "    Split: Test"
      ]
     },
     "execution_count": 26,
     "metadata": {},
     "output_type": "execute_result"
    }
   ],
   "source": [
    "test_mnist"
   ]
  },
  {
   "cell_type": "code",
   "execution_count": 27,
   "id": "524e58ef-f088-4492-adf0-042d5642a5a3",
   "metadata": {},
   "outputs": [
    {
     "data": {
      "text/plain": [
       "PIL.Image.Image"
      ]
     },
     "execution_count": 27,
     "metadata": {},
     "output_type": "execute_result"
    }
   ],
   "source": [
    "img, label = train_mnist[0]\n",
    "type(img)"
   ]
  },
  {
   "cell_type": "code",
   "execution_count": 28,
   "id": "21118718-0236-4b15-824a-7439d32b3752",
   "metadata": {},
   "outputs": [
    {
     "data": {
      "image/png": "[encoded data removed]",
      "text/plain": [
       "<Figure size 800x400 with 6 Axes>"
      ]
     },
     "metadata": {},
     "output_type": "display_data"
    }
   ],
   "source": [
    "plot_mnist_sample(train_mnist)"
   ]
  },
  {
   "cell_type": "markdown",
   "id": "33063cda",
   "metadata": {},
   "source": [
    "# Combine and Transform\n",
    "\n",
    "Pytorch MNIST set contains train/test for classification. We need a train set containing all `0`'s (the normal class) and a test set containing `0`s and an artificially small subset of digits `1-9` (the anomaly class)\n",
    "\n",
    "Thus we combine the test/train mnist sets and make a custom split.\n",
    "\n",
    "Also we transorm the PIL images from the set to tensors for training. Transforms come from the `tochvision` package used primarily for PIL-Image/Tensor to PIL-Image/Tensor transformations on dataset \n"
   ]
  },
  {
   "cell_type": "code",
   "execution_count": 31,
   "id": "3ebd0713",
   "metadata": {},
   "outputs": [],
   "source": [
    "train_mnist_tensor = datasets.MNIST('./data', train=True, download=True, transform=transforms.ToTensor())\n",
    "test_mnist_tensor = datasets.MNIST('./data', train=False, download=True, transform=transforms.ToTensor())\n",
    "\n",
    "mnist = ConcatDataset([train_mnist_tensor, test_mnist_tensor]) "
   ]
  },
  {
   "cell_type": "code",
   "execution_count": 38,
   "id": "12dd370b",
   "metadata": {},
   "outputs": [
    {
     "name": "stdout",
     "output_type": "stream",
     "text": [
      "3\n"
     ]
    },
    {
     "data": {
      "text/plain": [
       "torch.Size([1, 28, 28])"
      ]
     },
     "execution_count": 38,
     "metadata": {},
     "output_type": "execute_result"
    }
   ],
   "source": [
    "x, label = mnist[0]\n",
    "print(x.dim())\n",
    "x.shape"
   ]
  },
  {
   "cell_type": "code",
   "execution_count": 37,
   "id": "6a4176cf",
   "metadata": {},
   "outputs": [
    {
     "name": "stdout",
     "output_type": "stream",
     "text": [
      "cpu\n",
      "cuda:0\n"
     ]
    }
   ],
   "source": [
    "x_gpu = x.to('cuda')\n",
    "print(x.device)\n",
    "print(x_gpu.device)"
   ]
  },
  {
   "cell_type": "markdown",
   "id": "8736aac7",
   "metadata": {},
   "source": [
    "# Test/Train Split\n",
    "\n",
    "The mnist dataset is preconfigured for digit classification test/train split.\n",
    "\n",
    "We need a custom split for anomaly detection. \n",
    "\n",
    "Many ways to accomplish this -- for now we assign\n",
    "\n",
    "1) 0 - normal class\n",
    "2) 1-9 - anomaly class\n",
    "\n",
    "Roughly 7000 occurrences of `0` in the combined test + train mnist set. \n",
    "\n",
    "Most of these (~80 % = 5600) designated for custom train set. Anomalies not included in test for most unsupervised approaches. \n",
    "\n",
    "The remaing `0`s, say ~1400, go in the test set along with a small fraction (maybe 100 based on analysis below) of `1-0` anomalies. \n",
    "\n",
    "# Best Practices for Anomaly Detection Test Set Composition\n",
    "\n",
    "Realistic Anomaly Rate:\n",
    "\n",
    "Aim to reflect the expected real-world anomaly rate in your test set.\n",
    "Typical anomaly rates in practice range from 1% to 10%, rarely exceeding 20%."
   ]
  },
  {
   "cell_type": "code",
   "execution_count": 39,
   "id": "a82ea5d8",
   "metadata": {},
   "outputs": [
    {
     "data": {
      "text/plain": [
       "70000"
      ]
     },
     "execution_count": 39,
     "metadata": {},
     "output_type": "execute_result"
    }
   ],
   "source": [
    "len(mnist)"
   ]
  },
  {
   "cell_type": "code",
   "execution_count": 40,
   "id": "b400fa8a",
   "metadata": {},
   "outputs": [
    {
     "name": "stdout",
     "output_type": "stream",
     "text": [
      "6903\n",
      "63097\n"
     ]
    }
   ],
   "source": [
    "normal_labels = [0]\n",
    "\n",
    "normal_indices = [i for i, (_, label) in enumerate(mnist) if label in normal_labels]\n",
    "anomaly_indices = [i for i, (_, label) in enumerate(mnist) if label not in normal_labels]\n",
    "print(len(normal_indices))\n",
    "print(len(anomaly_indices))"
   ]
  },
  {
   "cell_type": "code",
   "execution_count": 41,
   "id": "27dbc1fa",
   "metadata": {},
   "outputs": [],
   "source": [
    "normal = Subset(mnist, normal_indices)  \n",
    "anomaly = Subset(mnist, anomaly_indices)"
   ]
  },
  {
   "cell_type": "markdown",
   "id": "46894d6c",
   "metadata": {},
   "source": [
    "# Test / Train split\n",
    "\n",
    "Why do we use test/train split? \n",
    "\n",
    "Answer:\n",
    "We want to train models that generalize (extrapolate) well to new data.  \\\n",
    "Testing a model on unseen data can prevent overfitting at the small cost of a smaller training set \\"
   ]
  },
  {
   "cell_type": "markdown",
   "id": "f31ea1ed",
   "metadata": {},
   "source": [
    "# What about Train/Validation/Test\n",
    "Sometimes referred to as train/dev/test\n",
    "\n",
    "This approach introduces a 'validation' pentultimate dataset for\n",
    "1. Model evaluation\n",
    "2. Hyperparameter Tuning\n",
    "3. Optimal stopping and overfitting prevention\n",
    "\n",
    "Then the test set acts as a 'real world' evaluation.\n",
    "\n",
    "# Cross Validation\n",
    "Another technique used to balance training efficiency with overfitting prevention. \\\n",
    "K-fold cross validation: Split data into k subsets. Train on k-1, test on 1. Repeat k times, rotating test set. Average performance across iterations."
   ]
  },
  {
   "cell_type": "code",
   "execution_count": 54,
   "id": "99002b9d",
   "metadata": {},
   "outputs": [],
   "source": [
    "'''\n",
    "Let's start with a simple test train split to start\n",
    "\n",
    "We have \n",
    "- 6903 normal (0)\n",
    "- 63097 anomaly (1-9)\n",
    "\n",
    "Need\n",
    "- ~20% test (0, 1-9)\n",
    "    - ~10% (1-9)\n",
    "    - ~90% (0)\n",
    "- ~80% train (0)\n",
    "\n",
    "Some algebra - We have 6903 (0) at a ratio of 80:(.9*20) = 80:18\n",
    "=> 80/98 * 6903 ~= 5635 train (0)\n",
    "=> 6903 - 5635 = 1268 test (0)\n",
    "\n",
    "=> 1/9 * 1268 ~= 140 test (1-9)\n",
    "\n",
    "Final results\n",
    "Train:\n",
    "    - 5635 (0)\n",
    "\n",
    "Test \n",
    "    - 1268 (0)\n",
    "    - 140 (1-9)\n",
    "\n",
    "''' \n",
    "\n",
    "def random_sample(dataset: Dataset, n: int):\n",
    "    sample, _ = random_split(dataset, [n, len(dataset) - n])\n",
    "    return sample\n",
    "\n",
    "norm1_count = 5635\n",
    "norm2_count = 1268\n",
    "\n",
    "anomaly_count = 140\n",
    "\n",
    "train_normal, test_normal = random_split(normal, [norm1_count, norm2_count])\n",
    "test_anomaly = random_sample(anomaly, anomaly_count)"
   ]
  },
  {
   "cell_type": "code",
   "execution_count": 55,
   "id": "1c472d7c",
   "metadata": {},
   "outputs": [],
   "source": [
    "train = train_normal\n",
    "test = ConcatDataset([test_normal, test_anomaly])"
   ]
  },
  {
   "cell_type": "code",
   "execution_count": 56,
   "id": "b4f171ed",
   "metadata": {},
   "outputs": [
    {
     "name": "stdout",
     "output_type": "stream",
     "text": [
      "5635\n",
      "1408\n"
     ]
    }
   ],
   "source": [
    "print(len(train))\n",
    "print(len(test))"
   ]
  },
  {
   "cell_type": "markdown",
   "id": "d6e3d0b7",
   "metadata": {},
   "source": [
    "# Dataloaders"
   ]
  },
  {
   "cell_type": "code",
   "execution_count": 97,
   "id": "38eb5cf3",
   "metadata": {},
   "outputs": [],
   "source": [
    "train_dataloader = DataLoader(train, batch_size=64, shuffle=True)\n",
    "test_dataloader = DataLoader(test, batch_size=64, shuffle=True)"
   ]
  },
  {
   "cell_type": "code",
   "execution_count": 98,
   "id": "6cb8eb34",
   "metadata": {},
   "outputs": [
    {
     "name": "stdout",
     "output_type": "stream",
     "text": [
      "{0}\n",
      "features shape: torch.Size([64, 1, 28, 28])\n"
     ]
    },
    {
     "data": {
      "text/plain": [
       "(64, 64)"
      ]
     },
     "execution_count": 98,
     "metadata": {},
     "output_type": "execute_result"
    }
   ],
   "source": [
    "features, labels = next(iter(train_dataloader))\n",
    "print(set(l.item() for l in labels))\n",
    "print(f'features shape: {features.shape}')\n",
    "len(features), len(labels)"
   ]
  },
  {
   "cell_type": "code",
   "execution_count": 99,
   "id": "9c30f47f",
   "metadata": {},
   "outputs": [
    {
     "data": {
      "image/png": "[encoded data removed]",
      "text/plain": [
       "<Figure size 400x400 with 1 Axes>"
      ]
     },
     "metadata": {},
     "output_type": "display_data"
    },
    {
     "name": "stdout",
     "output_type": "stream",
     "text": [
      "Label: 0\n"
     ]
    }
   ],
   "source": [
    "img = features[0].squeeze()\n",
    "label = labels[0]\n",
    "plt.figure(figsize=(4, 4))\n",
    "\n",
    "plt.imshow(img, cmap=\"gray\")\n",
    "plt.show()  \n",
    "print(f\"Label: {label}\")"
   ]
  },
  {
   "cell_type": "markdown",
   "id": "035f89d9",
   "metadata": {},
   "source": [
    "# Consolidate to custom Dataset Class"
   ]
  },
  {
   "cell_type": "code",
   "execution_count": null,
   "id": "07dc9a5a",
   "metadata": {},
   "outputs": [],
   "source": [
    "'''\n",
    "Something like:\n",
    "\n",
    "class MNISTAnomalyDetection\n",
    "    def train_dataset\n",
    "    def test_dataset\n",
    "    \n",
    "'''"
   ]
  }
 ],
 "metadata": {
  "kernelspec": {
   "display_name": "Python 3 (ipykernel)",
   "language": "python",
   "name": "python3"
  },
  "language_info": {
   "codemirror_mode": {
    "name": "ipython",
    "version": 3
   },
   "file_extension": ".py",
   "mimetype": "text/x-python",
   "name": "python",
   "nbconvert_exporter": "python",
   "pygments_lexer": "ipython3",
   "version": "3.10.12"
  }
 },
 "nbformat": 4,
 "nbformat_minor": 5
}
