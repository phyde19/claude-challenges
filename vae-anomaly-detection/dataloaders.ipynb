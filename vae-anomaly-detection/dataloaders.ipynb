{
 "cells": [
  {
   "cell_type": "markdown",
   "id": "54290daa-8b1b-4adb-a950-370d70682fb3",
   "metadata": {},
   "source": [
    "I'm tempted to prompt for the dataloader code\n",
    "\n",
    "I'll likely be using PyTorch alot though so manually getting aquainted with the pytorch interfaces is a better approach\n",
    "\n",
    "## Goals\n",
    "1. Understand datasets and dataloaders\n",
    "2. I think mnist is available through pytorch (other examples?) -> YES. https://pytorch.org/vision/stable/datasets.html\n",
    "3. torchvision for images. Aren't images just tensors/matrices?\n",
    "4. Data Preparation -> data splitting, train/val/test, batching\n",
    "5. Normalization / standardization <- Maybe defer this till later\n",
    "\n",
    "# Datasets\n",
    "A Dataset in PyTorch represents your data.\n",
    "It's an abstract class that you can subclass to create custom datasets.\n",
    "Each Dataset must implement len (returns the size of the dataset) and getitem (returns a sample from the dataset).\n",
    "Datasets handle how individual data points are accessed and preprocessed.\n",
    "\n",
    "# Dataloaders\n",
    "DataLoaders wrap an iterable around the Dataset to enable easy access to samples.\n",
    "They handle batching, shuffling, multiprocessing for loading data, and other important features.\n",
    "DataLoaders are particularly useful for:\n",
    "Batching data\n",
    "Shuffling data\n",
    "Loading data in parallel using multiprocessing workers\n",
    "Automatically sending data to the correct device (CPU/GPU)"
   ]
  },
  {
   "cell_type": "code",
   "execution_count": 2,
   "id": "5adfc86a",
   "metadata": {},
   "outputs": [
    {
     "name": "stdout",
     "output_type": "stream",
     "text": [
      "The autoreload extension is already loaded. To reload it, use:\n",
      "  %reload_ext autoreload\n"
     ]
    }
   ],
   "source": [
    "%load_ext autoreload\n",
    "%autoreload 2"
   ]
  },
  {
   "cell_type": "code",
   "execution_count": 15,
   "id": "d1d5d94d-6075-46b7-8f36-d26042a8c604",
   "metadata": {},
   "outputs": [],
   "source": [
    "from torch.utils.data import Dataset, ConcatDataset, DataLoader, Subset\n",
    "from torchvision import datasets, transforms \n",
    "\n",
    "import numpy as np\n",
    "import matplotlib.pyplot as plt"
   ]
  },
  {
   "cell_type": "code",
   "execution_count": 16,
   "id": "ffe10e67",
   "metadata": {},
   "outputs": [],
   "source": [
    "from lib.plot import plot_mnist_sample"
   ]
  },
  {
   "cell_type": "code",
   "execution_count": 17,
   "id": "1f8f85ec-7176-4159-a12e-3fe435282b36",
   "metadata": {},
   "outputs": [],
   "source": [
    "train_mnist = datasets.MNIST('./data', train=True, download=True)\n",
    "test_mnist = datasets.MNIST('./data', train=False, download=True)"
   ]
  },
  {
   "cell_type": "code",
   "execution_count": 18,
   "id": "05a67f85-a9f9-452b-8464-c9bfbd4d38ec",
   "metadata": {},
   "outputs": [
    {
     "name": "stdout",
     "output_type": "stream",
     "text": [
      "True\n"
     ]
    }
   ],
   "source": [
    "print(isinstance(train_mnist, Dataset))"
   ]
  },
  {
   "cell_type": "code",
   "execution_count": 19,
   "id": "6ba12fc7",
   "metadata": {},
   "outputs": [
    {
     "data": {
      "text/plain": [
       "Dataset MNIST\n",
       "    Number of datapoints: 60000\n",
       "    Root location: ./data\n",
       "    Split: Train"
      ]
     },
     "execution_count": 19,
     "metadata": {},
     "output_type": "execute_result"
    }
   ],
   "source": [
    "train_mnist"
   ]
  },
  {
   "cell_type": "code",
   "execution_count": 20,
   "id": "c8b5954e-076b-48a6-821a-c988d6f7931b",
   "metadata": {},
   "outputs": [
    {
     "data": {
      "text/plain": [
       "Dataset MNIST\n",
       "    Number of datapoints: 10000\n",
       "    Root location: ./data\n",
       "    Split: Test"
      ]
     },
     "execution_count": 20,
     "metadata": {},
     "output_type": "execute_result"
    }
   ],
   "source": [
    "test_mnist"
   ]
  },
  {
   "cell_type": "code",
   "execution_count": 21,
   "id": "524e58ef-f088-4492-adf0-042d5642a5a3",
   "metadata": {},
   "outputs": [
    {
     "data": {
      "text/plain": [
       "PIL.Image.Image"
      ]
     },
     "execution_count": 21,
     "metadata": {},
     "output_type": "execute_result"
    }
   ],
   "source": [
    "img, label = train_mnist[0]\n",
    "type(img)"
   ]
  },
  {
   "cell_type": "code",
   "execution_count": 22,
   "id": "21118718-0236-4b15-824a-7439d32b3752",
   "metadata": {},
   "outputs": [
    {
     "data": {
      "image/png": "[encoded data removed]",
      "text/plain": [
       "<Figure size 800x400 with 6 Axes>"
      ]
     },
     "metadata": {},
     "output_type": "display_data"
    }
   ],
   "source": [
    "plot_mnist_sample(train_mnist)"
   ]
  },
  {
   "cell_type": "markdown",
   "id": "33063cda",
   "metadata": {},
   "source": [
    "# Combine and Transform\n",
    "\n",
    "Pytorch MNIST set contains train/test for classification. We need a train set containing all `0`'s (the normal class) and a test set containing `0`s and an artificially small subset of digits `1-9` (the anomaly class)\n",
    "\n",
    "Thus we combine the test/train mnist sets and make a custom split.\n",
    "\n",
    "Also we transorm the PIL images from the set to tensors for training. Transforms come from the `tochvision` package used primarily for PIL-Image/Tensor to PIL-Image/Tensor transformations on dataset \n"
   ]
  },
  {
   "cell_type": "code",
   "execution_count": 23,
   "id": "3ebd0713",
   "metadata": {},
   "outputs": [],
   "source": [
    "mnist = ConcatDataset([train_mnist, test_mnist]) "
   ]
  },
  {
   "cell_type": "markdown",
   "id": "8736aac7",
   "metadata": {},
   "source": [
    "# Test/Train Split\n",
    "\n",
    "The mnist dataset is preconfigured for digit classification test/train split.\n",
    "\n",
    "We need a custom split for anomaly detection. \n",
    "\n",
    "Many ways to accomplish this -- for now we assign\n",
    "\n",
    "1) 0 - normal class\n",
    "2) 1-9 - anomaly class\n",
    "\n",
    "Roughly 7000 occurrences of `0` in the combined test + train mnist set. \n",
    "\n",
    "Most of these (~80 % = 5600) designated for custom train set. Anomalies not included in test for most unsupervised approaches. \n",
    "\n",
    "The remaing `0`s, say ~1400, go in the test set along with a small fraction (maybe 100 based on analysis below) of `1-0` anomalies. \n",
    "\n",
    "# Best Practices for Anomaly Detection Test Set Composition\n",
    "\n",
    "Realistic Anomaly Rate:\n",
    "\n",
    "Aim to reflect the expected real-world anomaly rate in your test set.\n",
    "Typical anomaly rates in practice range from 1% to 10%, rarely exceeding 20%."
   ]
  },
  {
   "cell_type": "code",
   "execution_count": 24,
   "id": "a82ea5d8",
   "metadata": {},
   "outputs": [
    {
     "data": {
      "text/plain": [
       "70000"
      ]
     },
     "execution_count": 24,
     "metadata": {},
     "output_type": "execute_result"
    }
   ],
   "source": [
    "len(mnist)"
   ]
  },
  {
   "cell_type": "code",
   "execution_count": 25,
   "id": "b400fa8a",
   "metadata": {},
   "outputs": [
    {
     "data": {
      "text/plain": [
       "70000"
      ]
     },
     "execution_count": 25,
     "metadata": {},
     "output_type": "execute_result"
    }
   ],
   "source": [
    "normal_labels = [0]\n",
    "\n",
    "normal_indices = [i for i, (_, label) in enumerate(mnist) if label in normal_labels]\n",
    "anomaly_indices = [i for i, (_, label) in enumerate(mnist) if label not in normal_labels]\n",
    "len(normal_indices) + len(anomaly_indices)"
   ]
  },
  {
   "cell_type": "code",
   "execution_count": 26,
   "id": "27dbc1fa",
   "metadata": {},
   "outputs": [],
   "source": [
    "normal = Subset(mnist, normal_indices)\n",
    "anomaly = Subset(mnist, anomaly_indices)"
   ]
  },
  {
   "cell_type": "markdown",
   "id": "46894d6c",
   "metadata": {},
   "source": [
    "# Test / Train split\n",
    "\n",
    "Why do we use test/train split? \n",
    "\n",
    "Answer:\n",
    "We want to train models that generalize (extrapolate) well to new data.  \\\n",
    "Testing a model on unseen data can prevent overfitting at the small cost of a smaller training set \\"
   ]
  },
  {
   "cell_type": "markdown",
   "id": "f31ea1ed",
   "metadata": {},
   "source": [
    "# What about Train/Validation/Test\n",
    "Sometimes referred to as train/dev/test\n",
    "\n",
    "This approach introduces a 'validation' pentultimate dataset for\n",
    "1. Model evaluation\n",
    "2. Hyperparameter Tuning\n",
    "3. Optimal stopping and overfitting prevention\n",
    "\n",
    "Then the test set acts as a 'real world' evaluation.\n",
    "\n",
    "# Cross Validation\n",
    "Another technique used to balance training efficiency with overfitting prevention. \\\n",
    "K-fold cross validation: Split data into k subsets. Train on k-1, test on 1. Repeat k times, rotating test set. Average performance across iterations."
   ]
  },
  {
   "cell_type": "code",
   "execution_count": 30,
   "id": "99002b9d",
   "metadata": {},
   "outputs": [
    {
     "data": {
      "text/plain": [
       "\"\\nLet's start with a simple test train split to start\\n\\nWe have \\n- 6903 normal (0)\\n- 63097 anomaly (1-9)\\n\\nNeed\\n- ~20% test (0, 1-9)\\n    - ~10% (1-9)\\n    - ~90% (0)\\n- ~80% train (0)\\n\\nSome algebra - We have 6903 (0) at a ratio of 80:(.9*20) = 80:18\\n=> 80/98 * 6903 ~= 5635 train (0)\\n=> 6903 - 5635 = 1268 test (0)\\n\\n=> 1/9 * 1268 ~= 140 test (1-9)\\n\\nFinal results\\nTrain:\\n    - 5635 (0)\\n\\nTest \\n    - 1268 (0)\\n    - 140 (1-9)\\n\\n\""
      ]
     },
     "execution_count": 30,
     "metadata": {},
     "output_type": "execute_result"
    }
   ],
   "source": [
    "'''\n",
    "Let's start with a simple test train split to start\n",
    "\n",
    "We have \n",
    "- 6903 normal (0)\n",
    "- 63097 anomaly (1-9)\n",
    "\n",
    "Need\n",
    "- ~20% test (0, 1-9)\n",
    "    - ~10% (1-9)\n",
    "    - ~90% (0)\n",
    "- ~80% train (0)\n",
    "\n",
    "Some algebra - We have 6903 (0) at a ratio of 80:(.9*20) = 80:18\n",
    "=> 80/98 * 6903 ~= 5635 train (0)\n",
    "=> 6903 - 5635 = 1268 test (0)\n",
    "\n",
    "=> 1/9 * 1268 ~= 140 test (1-9)\n",
    "\n",
    "Final results\n",
    "Train:\n",
    "    - 5635 (0)\n",
    "\n",
    "Test \n",
    "    - 1268 (0)\n",
    "    - 140 (1-9)\n",
    "\n",
    "'''"
   ]
  },
  {
   "cell_type": "code",
   "execution_count": 29,
   "id": "f6a139e6",
   "metadata": {},
   "outputs": [
    {
     "data": {
      "text/plain": [
       "6903"
      ]
     },
     "execution_count": 29,
     "metadata": {},
     "output_type": "execute_result"
    }
   ],
   "source": [
    "len(normal)"
   ]
  },
  {
   "cell_type": "code",
   "execution_count": null,
   "id": "1c472d7c",
   "metadata": {},
   "outputs": [],
   "source": []
  }
 ],
 "metadata": {
  "kernelspec": {
   "display_name": "Python 3 (ipykernel)",
   "language": "python",
   "name": "python3"
  },
  "language_info": {
   "codemirror_mode": {
    "name": "ipython",
    "version": 3
   },
   "file_extension": ".py",
   "mimetype": "text/x-python",
   "name": "python",
   "nbconvert_exporter": "python",
   "pygments_lexer": "ipython3",
   "version": "3.10.12"
  }
 },
 "nbformat": 4,
 "nbformat_minor": 5
}
