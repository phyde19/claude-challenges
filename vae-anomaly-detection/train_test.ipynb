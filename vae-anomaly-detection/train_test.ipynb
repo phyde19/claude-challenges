{
 "cells": [
  {
   "cell_type": "code",
   "execution_count": 1,
   "metadata": {},
   "outputs": [],
   "source": [
    "from torch.utils.data import Dataset, DataLoader, ConcatDataset, Subset, random_split\n",
    "from lib.mnist_anomaly_detection import MNISTAnomalyDetection"
   ]
  },
  {
   "cell_type": "code",
   "execution_count": 2,
   "metadata": {},
   "outputs": [],
   "source": [
    "mnist = MNISTAnomalyDetection()"
   ]
  },
  {
   "cell_type": "code",
   "execution_count": 3,
   "metadata": {},
   "outputs": [],
   "source": [
    "train = mnist.train_dataset()\n",
    "test = mnist.test_dataset()"
   ]
  },
  {
   "cell_type": "code",
   "execution_count": 4,
   "metadata": {},
   "outputs": [],
   "source": [
    "train_dataloader = DataLoader(train, batch_size=64, shuffle=True)\n",
    "test_dataloader = DataLoader(test, batch_size=64, shuffle=True)"
   ]
  },
  {
   "cell_type": "code",
   "execution_count": 6,
   "metadata": {},
   "outputs": [
    {
     "name": "stdout",
     "output_type": "stream",
     "text": [
      "torch.Size([64, 1, 28, 28])\n",
      "<class 'torch.Tensor'>\n"
     ]
    },
    {
     "data": {
      "text/plain": [
       "tensor([0, 0, 0, 0, 0, 0, 0, 0, 0, 0, 0, 0, 0, 0, 0, 0, 0, 0, 0, 0, 0, 0, 0, 0,\n",
       "        0, 0, 0, 0, 0, 0, 0, 0, 0, 0, 0, 0, 0, 0, 0, 0, 0, 0, 0, 0, 0, 0, 0, 0,\n",
       "        0, 0, 0, 0, 0, 0, 0, 0, 0, 0, 0, 0, 0, 0, 0, 0])"
      ]
     },
     "execution_count": 6,
     "metadata": {},
     "output_type": "execute_result"
    }
   ],
   "source": [
    "features, labels = next(iter(train_dataloader))\n",
    "print(features.shape)\n",
    "print(type(features))\n",
    "labels"
   ]
  },
  {
   "cell_type": "markdown",
   "metadata": {},
   "source": [
    "# Roadmap\n",
    "\n",
    "### What is the overall strategy? \n",
    "In general I assume we train the model to learn the distibution of the data. \n",
    "Anomaly detection then reduces to the task of identifying outliers \n",
    "\n",
    "### This objective suggests a training procedure like:\n",
    "\n",
    "```{code}\n",
    "for each batch:\n",
    "    forward prop x -> model -> x_reconstruction\n",
    "    loss = loss()\n",
    "    backprop(loss, model)\n",
    "```\n",
    "\n",
    "Then in testing we use the model encoder to determine distribution\n",
    "\n",
    "This is just my assumption from limited knowledge. Need to do some research ~2 hours. \n",
    "\n",
    "\n",
    "# High level view\n",
    "\n",
    "1. Train encoder decoder networks\n",
    "2. Test samples -> encoder -> probability -> decoder -> reconstruction loss\n",
    "3. Decision_boundary(probability + reconstruction loss) -> 1 or 0\n",
    "4. Accuracy, f1,precison/recall, Area Under receiving operating characteristic, average precision, FPR @ TPR\n",
    "\n",
    "3. Latent Space Visualization:\n",
    "    - t-SNE or UMAP plots of the latent space\n",
    "    - This can help you visually inspect if anomalies are well-separated from normal digits"
   ]
  },
  {
   "cell_type": "markdown",
   "metadata": {},
   "source": [
    "# The Function\n",
    "\n",
    "Utimately we want a function that maps MNIST tensors to the correct class label.  \\\n",
    "As a baseline, we simply assume all samples are 'normal'"
   ]
  },
  {
   "cell_type": "code",
   "execution_count": null,
   "metadata": {},
   "outputs": [],
   "source": [
    "import torch.nn as nn\n",
    "import torch.nn.functional as F\n",
    "import torch\n",
    "\n",
    "class BaseLine(nn.Module):\n",
    "    def __init__(self):\n",
    "        pass\n",
    "\n",
    "    def forward(self, x: torch.Tensor):\n"
   ]
  },
  {
   "cell_type": "code",
   "execution_count": null,
   "metadata": {},
   "outputs": [],
   "source": []
  },
  {
   "cell_type": "code",
   "execution_count": null,
   "metadata": {},
   "outputs": [],
   "source": []
  }
 ],
 "metadata": {
  "kernelspec": {
   "display_name": "Python 3",
   "language": "python",
   "name": "python3"
  },
  "language_info": {
   "codemirror_mode": {
    "name": "ipython",
    "version": 3
   },
   "file_extension": ".py",
   "mimetype": "text/x-python",
   "name": "python",
   "nbconvert_exporter": "python",
   "pygments_lexer": "ipython3",
   "version": "3.10.12"
  }
 },
 "nbformat": 4,
 "nbformat_minor": 2
}
