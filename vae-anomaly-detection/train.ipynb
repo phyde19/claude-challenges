{
 "cells": [
  {
   "cell_type": "code",
   "execution_count": 24,
   "metadata": {},
   "outputs": [],
   "source": [
    "from torch.utils.data import Dataset, DataLoader\n",
    "from lib.mnist_anomaly_detection import MNISTAnomalyDetection"
   ]
  },
  {
   "cell_type": "code",
   "execution_count": 8,
   "metadata": {},
   "outputs": [],
   "source": [
    "mnist = MNISTAnomalyDetection()"
   ]
  },
  {
   "cell_type": "code",
   "execution_count": 13,
   "metadata": {},
   "outputs": [],
   "source": [
    "train = mnist.train_dataset()\n",
    "test = mnist.test_dataset()"
   ]
  },
  {
   "cell_type": "code",
   "execution_count": 14,
   "metadata": {},
   "outputs": [],
   "source": [
    "train_dataloader = DataLoader(train, batch_size=64, shuffle=True)\n",
    "test_dataloader = DataLoader(test, batch_size=64, shuffle=True)"
   ]
  },
  {
   "cell_type": "code",
   "execution_count": 23,
   "metadata": {},
   "outputs": [
    {
     "name": "stdout",
     "output_type": "stream",
     "text": [
      "torch.Size([64, 1, 28, 28])\n"
     ]
    },
    {
     "data": {
      "text/plain": [
       "tensor([0, 0, 0, 0, 0, 0, 0, 0, 0, 0, 0, 0, 0, 0, 0, 0, 0, 0, 0, 0, 0, 0, 0, 0,\n",
       "        0, 0, 0, 0, 0, 0, 0, 0, 0, 0, 0, 0, 0, 0, 0, 0, 0, 0, 0, 0, 0, 0, 0, 0,\n",
       "        0, 0, 0, 0, 0, 0, 0, 0, 0, 0, 0, 0, 0, 0, 0, 0])"
      ]
     },
     "execution_count": 23,
     "metadata": {},
     "output_type": "execute_result"
    }
   ],
   "source": [
    "features, labels = next(iter(train_dataloader))\n",
    "print(features.shape)\n",
    "labels"
   ]
  },
  {
   "cell_type": "markdown",
   "metadata": {},
   "source": [
    "# Roadmap\n",
    "\n",
    "### What is the overall strategy? \n",
    "In general I assume we train the model to learn the distibution of the data. \n",
    "Anomaly detection then reduces to the task of identifying outliers \n",
    "\n",
    "### This objective suggests a training procedure like:\n",
    "\n",
    "```{code}\n",
    "for each batch:\n",
    "    forward prop x -> model -> x_reconstruction\n",
    "    loss = loss()\n",
    "    backprop(loss, model)\n",
    "```\n",
    "\n",
    "Then in testing we use the model encoder to determine distribution\n",
    "\n",
    "This is just my assumption from limited knowledge. Need to do some research ~2 hours. \n",
    "\n",
    "\n",
    "# High level view\n",
    "\n",
    "1. Train encoder decoder networks\n",
    "2. Test samples -> encoder -> probability -> decoder -> reconstruction loss\n",
    "3. Decision_boundary(probability + reconstruction loss) -> 1 or 0\n",
    "4. Accuracy, f1,precison/recall, Area Under receiving operating characteristic"
   ]
  },
  {
   "cell_type": "code",
   "execution_count": null,
   "metadata": {},
   "outputs": [],
   "source": []
  },
  {
   "cell_type": "code",
   "execution_count": null,
   "metadata": {},
   "outputs": [],
   "source": []
  },
  {
   "cell_type": "code",
   "execution_count": null,
   "metadata": {},
   "outputs": [],
   "source": []
  }
 ],
 "metadata": {
  "kernelspec": {
   "display_name": "Python 3",
   "language": "python",
   "name": "python3"
  },
  "language_info": {
   "codemirror_mode": {
    "name": "ipython",
    "version": 3
   },
   "file_extension": ".py",
   "mimetype": "text/x-python",
   "name": "python",
   "nbconvert_exporter": "python",
   "pygments_lexer": "ipython3",
   "version": "3.10.12"
  }
 },
 "nbformat": 4,
 "nbformat_minor": 2
}
